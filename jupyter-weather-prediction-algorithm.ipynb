{
 "cells": [
  {
   "cell_type": "code",
   "execution_count": 1,
   "id": "13acc8cc",
   "metadata": {},
   "outputs": [],
   "source": [
    "from sklearn import datasets, linear_model\n",
    "from sklearn.metrics import r2_score\n",
    "from sklearn.model_selection import train_test_split\n",
    "from sklearn.tree import DecisionTreeRegressor\n",
    "import pandas as pd\n",
    "import os"
   ]
  },
  {
   "cell_type": "code",
   "execution_count": 7,
   "id": "4f5790cb",
   "metadata": {},
   "outputs": [],
   "source": [
    "files = os.listdir('weather-data/')"
   ]
  },
  {
   "cell_type": "code",
   "execution_count": 9,
   "id": "b9a8ac33",
   "metadata": {},
   "outputs": [],
   "source": [
    "data_frames = [pd.read_csv('weather-data/' + filename) for filename in files if not filename.startswith(\".gitkeep\")]\n",
    "data = pd.concat(data_frames).reset_index()"
   ]
  },
  {
   "cell_type": "markdown",
   "id": "6806e1ed",
   "metadata": {},
   "source": [
    "# Procesamiento de datos"
   ]
  },
  {
   "cell_type": "code",
   "execution_count": 4,
   "id": "38ab1f6e",
   "metadata": {},
   "outputs": [],
   "source": [
    "data = data.drop([\n",
    "    'Date', 'index', 'Longitude', 'Latitude', 'Elevation', 'Solar'\n",
    "], axis = 1)"
   ]
  },
  {
   "cell_type": "markdown",
   "id": "c5288d57",
   "metadata": {},
   "source": [
    "# Datos de entrenamiento y de prueba"
   ]
  },
  {
   "cell_type": "code",
   "execution_count": 5,
   "id": "447891cb",
   "metadata": {},
   "outputs": [],
   "source": [
    "# Data de entrenamiento = 70%\n",
    "# Data de prueba = 30%\n",
    "data_train, data_test = train_test_split(data, test_size = 0.3, random_state = 0)"
   ]
  },
  {
   "cell_type": "markdown",
   "id": "3c6b0720",
   "metadata": {},
   "source": [
    "# Asignar variable dependiente e independientes"
   ]
  },
  {
   "cell_type": "code",
   "execution_count": 6,
   "id": "a2bd9c9d",
   "metadata": {},
   "outputs": [],
   "source": [
    "x_train = data_train[['Max Temperature', 'Precipitation', 'Wind', 'Relative Humidity']] # Variables independientes\n",
    "y_train = data_train[['Min Temperature']] # Variable dependiente\n",
    "\n",
    "x_test = data_test[['Max Temperature', 'Precipitation', 'Wind', 'Relative Humidity']]\n",
    "y_test = data_test[['Min Temperature']]"
   ]
  },
  {
   "cell_type": "markdown",
   "id": "9e88fe2f",
   "metadata": {},
   "source": [
    "# Algoritmo de regresión lineal"
   ]
  },
  {
   "cell_type": "code",
   "execution_count": 7,
   "id": "6dc7683d",
   "metadata": {},
   "outputs": [],
   "source": [
    "linear_regression = linear_model.LinearRegression()\n",
    "linear_regression.fit(x_train, y_train) # Entranamiento del modelo\n",
    "y_prediction = pd.DataFrame(linear_regression.predict(x_test))"
   ]
  }
 ],
 "metadata": {
  "kernelspec": {
   "display_name": "Python 3 (ipykernel)",
   "language": "python",
   "name": "python3"
  },
  "language_info": {
   "codemirror_mode": {
    "name": "ipython",
    "version": 3
   },
   "file_extension": ".py",
   "mimetype": "text/x-python",
   "name": "python",
   "nbconvert_exporter": "python",
   "pygments_lexer": "ipython3",
   "version": "3.8.10"
  }
 },
 "nbformat": 4,
 "nbformat_minor": 5
}
